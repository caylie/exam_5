{
 "cells": [
  {
   "cell_type": "markdown",
   "metadata": {},
   "source": [
    "### Table of Contents\n",
    "1. <a href=#exp>Exposures</a> (2-6%)\n",
    "2. <a href=#prem>Premiums</a> (5-9%)\n",
    "3. <a href=#loss>Loss \\& LAE</a> (8-14%)\n",
    "4. <a href=#uw_exp>Underwriting Expense Provisions</a> (0-5%)\n",
    "5. <a href=#indication>Overall Rate Level Indication</a> (3-6%)\n",
    "6. <a href=#other_rl_considerations>Other Rate Level Considerations</a> (0-5%)\n",
    "7. <a href=#risk_classification>Risk Classification</a> (0-5%)\n",
    "8. <a href=#terr_ilf>Territory and ILF/Deductible Rating</a> (10-14%)\n",
    "9. <a href=#implementing_rates>Implementing Rates</a> (0-3%)\n",
    "10. <a href=#coinsurance>Coinsurance Premiums</a> (0-5%)\n",
    "11. <a href=#indiv_risk>Individual Risk Rating</a> (0-5%)"
   ]
  },
  {
   "cell_type": "markdown",
   "metadata": {},
   "source": [
    "<a id=exp></a>\n",
    "# 1. Exposures (2-6%)\n",
    "Describe, analyze or design the information requirements for ratemaking related to exposures and demonstrate the use of exposures in ratemaking."
   ]
  },
  {
   "cell_type": "markdown",
   "metadata": {},
   "source": [
    "### Readings\n",
    "- Werner and Modlin, Chapters 1, 3-4\n",
    "\n",
    "### Knowledge Statements\n",
    "1. Definition of an exposure base\n",
    "2. Characteristics of exposure bases\n",
    "3. Selection of an exposure base\n",
    "4. Organization of data: CY, PY, and AY\n",
    "5. Written exposure vs. earned exposure vs. in-force exposure"
   ]
  },
  {
   "cell_type": "markdown",
   "metadata": {},
   "source": [
    "<a id='exp_defs'></a>\n",
    "### Definitions\n",
    "- An **exposure** is the basic unit of risk that underlies the insurance premium.\n",
    "    - Written exposures: total exposures arising from policies issued during a specified period of time\n",
    "    - Earned exposures: the portion of written exposures for which coverage has already been provided as of a certain point in time\n",
    "    - Unearned exposures: = written - earned (portion for which coverage has not yet been provided)\n",
    "    - In-force exposures: number of insured units exposed to loss at any given point in time"
   ]
  },
  {
   "cell_type": "markdown",
   "metadata": {},
   "source": [
    "<a id=prem></a>\n",
    "# 2. Premiums (5-9%)\n",
    "Describe, analyze or design the information requirements for ratemaking related to premiums and demonstrate the use of premiums in ratemaking."
   ]
  },
  {
   "cell_type": "markdown",
   "metadata": {},
   "source": [
    "### Readings\n",
    "- ASOP 13\n",
    "- Werner and Modlin, Chapters 1, 3, 5 and Appendices A-D\n",
    "\n",
    "### Knowledge Statements\n",
    "1. Organization of data: CY, PY, and AY\n",
    "2. WP vs EP vs In-Force Premium\n",
    "3. Relationship between EP and earned exposure\n",
    "4. Policy terms\n",
    "5. Effect of law changes\n",
    "6. Effect of rate changes\n",
    "7. Determination of and application of premium trend\n",
    "8. Adjustment for coverage and benefit level changes\n",
    "9. Distributional shifts\n",
    "10. Parallelogram method\n",
    "11. Extension of exposures"
   ]
  },
  {
   "cell_type": "markdown",
   "metadata": {},
   "source": [
    "<a id='prem_defs'></a>\n",
    "### Definitions:\n",
    "- **Premium** is the amount an insured pays for insurance coverage.\n",
    "    - Written premium: total premium associated with policies written in a certain period\n",
    "    - Earned premium: portion of WP for which coverage has already been provided as of a certain point in time\n",
    "    - Unearned premium: = written - earned\n",
    "    - In-force premium: full-term premium for policies that are in effect at any given point in time"
   ]
  },
  {
   "cell_type": "markdown",
   "metadata": {},
   "source": [
    "<a id=loss></a>\n",
    "# 3. Loss & LAE (8-14%)\n",
    "Describe, analyze or design the information requirements for ratemaking related to loss and loss adjustment expenses in ratemaking."
   ]
  },
  {
   "cell_type": "markdown",
   "metadata": {},
   "source": [
    "### Readings\n",
    "- ASOP 13\n",
    "- Werner and Modlin, Chapters 1, 3, 6, 12, 16 and Appendices A-D\n",
    "\n",
    "### Knowledge Statements\n",
    "1. Organization of data: CY, PY, AY, and report year\n",
    "2. Policy provisions\n",
    "3. Occurrence coverage\n",
    "4. Claims-made coverage\n",
    "    - Report lag\n",
    "    - Coverage triggers\n",
    "    - Principles of claims-made policies\n",
    "    - Retroactive date\n",
    "    - Tail coverage\n",
    "5. Reported loses vs. paid losses\n",
    "6. Claim counts\n",
    "7. Loss adjustment expense (allocated and unallocated)\n",
    "8. Loss development\n",
    "9. Frequency trend\n",
    "10. Severity Trend\n",
    "11. Pure Premium Trend\n",
    "12. Approaches to determining trend (e.g. exponential and linear analyses)\n",
    "13. Relationship between trend and loss development\n",
    "14. Effect of law changes\n",
    "15. Effect of changes in mix of business\n",
    "16. Adjustment for coverage and benefit level changes\n",
    "17. Credibility criteria and formulae\n",
    "18. Large loss adjustment\n",
    "19. Reinsurance recoveries\n",
    "20. Reinsurance costs\n",
    "21. CAT adjustment"
   ]
  },
  {
   "cell_type": "markdown",
   "metadata": {},
   "source": [
    "<a id='loss_defs'></a>\n",
    "### Definitions\n",
    "- **Accident/loss date:** the date of the event that caused the loss\n",
    "- **Report date:** the date the claimant reports the claim to the insurer\n",
    "- **IBNR claims:** claims not currently known to the insurer (unreported)\n",
    "- **Loss:** the amount of compensation paid or payable to the claimant\n",
    "    - Paid loss: amounts that have been paid to claimants\n",
    "    - Case reserve: estimate of the amount of money required to ultimately settle a claim\n",
    "    - Reported loss/case incurred loss: = Paid + Case Reserve\n",
    "- **Ultimate loss:** the amount of money required to close/settle all claims for a defined group of policies. Differs from reported due to IBNR and IBNER\n",
    "    - Ultimate = Reported + IBNR + IBNER\n",
    "- **Loss Adjustment Expense:** expenses incurred in the process of settling claims\n",
    "    - ALAE: directly attributable to a specific claim, e.g. legal counsel hired to defend a claim\n",
    "    - ULAE: cannot be assigned to a specific claim"
   ]
  },
  {
   "cell_type": "markdown",
   "metadata": {},
   "source": [
    "<a id=uw_exp></a>\n",
    "# 4. Underwriting Expense Provisions (0-5%)\n",
    "Calculate the underwriting expense provisions underlying the overall rate indication."
   ]
  },
  {
   "cell_type": "markdown",
   "metadata": {},
   "source": [
    "### Readings\n",
    "- Werner and Modlin, Chapters 1, 7 and Appendices A-D\n",
    "\n",
    "### Knowledge Statements\n",
    "1. Expense Categories (e.g. commission, general, other acquisition, taxes, license, and fees)\n",
    "2. Sources of data and selection criteria\n",
    "3. Profit and contingency provisions\n",
    "4. Net cost of reinsurance\n",
    "5. Cost of capital\n",
    "6. Fixed expenses and vairable expenses\n",
    "7. Differences in procedures for loss adjustment expenses vs. underwriting expenses\n",
    "8. Permissible loss ratio"
   ]
  },
  {
   "cell_type": "markdown",
   "metadata": {},
   "source": [
    "<a id='uw_exp_defs'></a>\n",
    "### Definitions\n",
    "- **UW expenses** refer to expenses for the aquisition and servicing of policies\n",
    "    - Commissions and brokerage: paid to agents/brokers\n",
    "    - Other acquisition: e.g. media advertisements or mailings\n",
    "    - General: remaining operations expenses, e.g. office upkeep\n",
    "    - Taxes, licenses, and fees: all taxes/fees excluding federal income taxes, e.g. premium taxes and licensing fees\n",
    "- **UW profit:** AKA operating income. The sum o fprofits generated from the individual policies"
   ]
  },
  {
   "cell_type": "markdown",
   "metadata": {},
   "source": [
    "<a id=indication></a>\n",
    "# 5. Overall Rate Level Indication (3-6%)\n",
    "Calculate the overall rate level indication using the pure premium and loss ratio methods and argue the merits of each."
   ]
  },
  {
   "cell_type": "markdown",
   "metadata": {},
   "source": [
    "### Readings\n",
    "- CAS Ratemaking Principles\n",
    "- Werner and Modlin, Chapters 1, 8 and Appendices A-D\n",
    "\n",
    "### Knowledge Statements\n",
    "1. Statement of Principles, CAS\n",
    "2. Assumptions of each method\n",
    "3. Mechanics associated with each method (including organization of data)\n",
    "4. When each method works and when it does not"
   ]
  },
  {
   "cell_type": "markdown",
   "metadata": {},
   "source": [
    "<a id='indication_defs'></a>\n",
    "### Definitions\n",
    "- **Fundamental Insurance Equation:** Premium = Losses + LAE + UW Expense + UW Profit"
   ]
  },
  {
   "cell_type": "markdown",
   "metadata": {},
   "source": [
    "### Notes\n",
    "- Ratemaking is prospective: \"A *rate* is an estimate of the expected value of future costs."
   ]
  },
  {
   "cell_type": "markdown",
   "metadata": {},
   "source": [
    "<a id=other_rl_considerations></a>\n",
    "# 6. Other Rate Level Considerations (0-5%)\n",
    "Describe, analyze, and validate the considerations beyond the calculated cost-based estimate of the rate when selecting a final rate change to implement."
   ]
  },
  {
   "cell_type": "markdown",
   "metadata": {},
   "source": [
    "### Readings\n",
    "- Werner and Modlin, Chapter 13\n",
    "\n",
    "### Knowledge Statements\n",
    "1. Calculate cost-based rate\n",
    "2. Regulatory constraints\n",
    "3. Operational constraints\n",
    "4. Marketing constraints\n",
    "    - Competitive comparisons\n",
    "    - Close ratios\n",
    "    - Retention ratios\n",
    "    - Growth\n",
    "    - Distributional analysis\n",
    "    - Policyholder dislocation analysis\n",
    "5. Lifetime value analysis\n",
    "6. Optimized pricing\n",
    "7. Underwriting cycles"
   ]
  },
  {
   "cell_type": "markdown",
   "metadata": {},
   "source": [
    "<a id='other_rl_considerations_defs'></a>\n",
    "### Definitions\n",
    "- "
   ]
  },
  {
   "cell_type": "markdown",
   "metadata": {},
   "source": [
    "<a id=risk_classification></a>\n",
    "# 7. Risk Classification (0-5%)\n",
    "Explain the purpose for segregating data into homogeneous groups and summarize the considerations for determining such groups."
   ]
  },
  {
   "cell_type": "markdown",
   "metadata": {},
   "source": [
    "### Readings\n",
    "- ASOP 12\n",
    "- Werner and Modlin, Chapter 9\n",
    "\n",
    "### Knowledge Statements\n",
    "1. Risk classification standard of practice\n",
    "2. Criteria for selection of classification grouping\n",
    "3. Credibility\n",
    "4. Adverse selection\n",
    "5. Practicality"
   ]
  },
  {
   "cell_type": "markdown",
   "metadata": {},
   "source": [
    "<a id='risk_classification_defs'></a>\n",
    "### Definitions\n",
    "- "
   ]
  },
  {
   "cell_type": "markdown",
   "metadata": {},
   "source": [
    "<a id=terr_ilf></a>\n",
    "# 8. Territory and ILF/Deductible Rating (10-14%)\n",
    "Develop rating differentials for classification and territory and relativities for deductibles and increased limits."
   ]
  },
  {
   "cell_type": "markdown",
   "metadata": {},
   "source": [
    "### Readings\n",
    "- Werner and Modlin, Chapters 9-12, 15 and Appendices E-F\n",
    "\n",
    "### Knowledge Statements\n",
    "1. Formulae and process for each rating differential or relativity\n",
    "2. Credibility and complements of credibility\n",
    "3. Off balance\n",
    "4. Capping of change\n",
    "5. Loss elimination\n",
    "6. Basic limits vs. total limits\n",
    "7. Layers of loss\n",
    "8. Expense adjustments\n",
    "9. Fundamentals of univariate and multivariate relativity analyses"
   ]
  },
  {
   "cell_type": "markdown",
   "metadata": {},
   "source": [
    "<a id='terr_ilf_defs'></a>\n",
    "### Definitions\n",
    "- "
   ]
  },
  {
   "cell_type": "markdown",
   "metadata": {},
   "source": [
    "<a id=implementing_rates></a>\n",
    "# 9. Implementing Rates (0-3%)\n",
    "Assess the considerations for implementing rates to achieve an organization's goals."
   ]
  },
  {
   "cell_type": "markdown",
   "metadata": {},
   "source": [
    "### Readings\n",
    "- Werner and Modlin, Chapter 14\n",
    "\n",
    "### Knowledge Statements\n",
    "1. Rating algorithms\n",
    "2. Rating variables and differentials\n",
    "3. Fixed expenses, if applicable\n",
    "4. Expense fee calculation\n",
    "5. Calculation of final base rates\n",
    "6. Minimum premiums\n",
    "7. Non-pricing solutions"
   ]
  },
  {
   "cell_type": "markdown",
   "metadata": {},
   "source": [
    "<a id='implementing_rates_def'></a>\n",
    "### Definitions\n",
    "- "
   ]
  },
  {
   "cell_type": "markdown",
   "metadata": {},
   "source": [
    "<a id=coinsurance></a>\n",
    "# 10. Coinsurance Premiums (0-5%)\n",
    "Calculate premium for policies with coinsurance provisions."
   ]
  },
  {
   "cell_type": "markdown",
   "metadata": {},
   "source": [
    "### Readings\n",
    "- Werner and Modlin, Chapter 11\n",
    "\n",
    "### Knowledge Statements\n",
    "1. Definition of coinsurance\n",
    "2. Insurance to value\n",
    "3. Common policy provisions\n",
    "4. Layers of loss\n",
    "5. Coverage issues\n",
    "6. Guaranteed replacement cost\n",
    "7. Formulae for coinsurnance"
   ]
  },
  {
   "cell_type": "markdown",
   "metadata": {},
   "source": [
    "<a id='coinsurance_defs'></a>\n",
    "### Definitions\n",
    "- "
   ]
  },
  {
   "cell_type": "markdown",
   "metadata": {},
   "source": [
    "<a id=indiv_risk></a>\n",
    "# 11. Individual Risk Rating (0-5%)\n",
    "Perform basic individual risk rating calculations."
   ]
  },
  {
   "cell_type": "markdown",
   "metadata": {},
   "source": [
    "### Readings\n",
    "- Werner and Modlin, Chapter 15\n",
    "\n",
    "### Knowledge Statements\n",
    "1. Purpose of individual risk rating\n",
    "2. Schedule rating\n",
    "3. Manual rating\n",
    "4. Retrospective rating\n",
    "5. Experience modification\n",
    "6. Composite loss-rated risks\n",
    "7. Experience period\n",
    "8. Credibility\n",
    "9. Layers of loss"
   ]
  },
  {
   "cell_type": "markdown",
   "metadata": {},
   "source": [
    "<a id='indiv_risk_defs'></a>\n",
    "### Definitions\n",
    "- "
   ]
  }
 ],
 "metadata": {
  "kernelspec": {
   "display_name": "Python 3",
   "language": "python",
   "name": "python3"
  },
  "language_info": {
   "codemirror_mode": {
    "name": "ipython",
    "version": 3
   },
   "file_extension": ".py",
   "mimetype": "text/x-python",
   "name": "python",
   "nbconvert_exporter": "python",
   "pygments_lexer": "ipython3",
   "version": "3.7.3"
  }
 },
 "nbformat": 4,
 "nbformat_minor": 2
}
