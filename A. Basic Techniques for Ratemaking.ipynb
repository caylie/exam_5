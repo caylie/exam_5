{
 "cells": [
  {
   "cell_type": "code",
   "execution_count": 1,
   "metadata": {
    "collapsed": true
   },
   "outputs": [],
   "source": [
    "import pandas as pd\n",
    "import numpy as np"
   ]
  },
  {
   "cell_type": "markdown",
   "metadata": {},
   "source": [
    "<a id=toc></a>\n",
    "### Table of Contents\n",
    "1. <a href=#exp>Exposures</a> (2-6%)\n",
    "2. <a href=#prem>Premiums</a> (5-9%)\n",
    "3. <a href=#loss>Loss & LAE</a> (8-14%)\n",
    "4. <a href=#uw_exp>Underwriting Expense Provisions</a> (0-5%)\n",
    "5. <a href=#indication>Overall Rate Level Indication</a> (3-6%)\n",
    "6. <a href=#other_rl_considerations>Other Rate Level Considerations</a> (0-5%)\n",
    "7. <a href=#risk_classification>Risk Classification</a> (0-5%)\n",
    "8. <a href=#terr_ilf>Territory and ILF/Deductible Rating</a> (10-14%)\n",
    "9. <a href=#implementing_rates>Implementing Rates</a> (0-3%)\n",
    "10. <a href=#coinsurance>Coinsurance Premiums</a> (0-5%)\n",
    "11. <a href=#indiv_risk>Individual Risk Rating</a> (0-5%)\n",
    "12. Miscellaneous\n",
    "    - <a href=#ratios>Basic Insurance Ratios</a>\n",
    "    - <a href=#fund_ins_eqn>Fundamental Insurance Equation</a>"
   ]
  },
  {
   "cell_type": "markdown",
   "metadata": {},
   "source": [
    "<a id=exp></a>\n",
    "# 1. Exposures (2-6%)\n",
    "Describe, analyze or design the information requirements for ratemaking related to exposures and demonstrate the use of exposures in ratemaking."
   ]
  },
  {
   "cell_type": "markdown",
   "metadata": {},
   "source": [
    "### Readings\n",
    "- Werner and Modlin, Chapters 1, 3-4\n",
    "\n",
    "### Knowledge Statements\n",
    "1. Definition of an exposure base\n",
    "2. Characteristics of exposure bases\n",
    "3. Selection of an exposure base\n",
    "4. Organization of data: CY, PY, and AY\n",
    "5. Written exposure vs. earned exposure vs. in-force exposure"
   ]
  },
  {
   "cell_type": "markdown",
   "metadata": {},
   "source": [
    "<a id='exp_defs'></a>\n",
    "### Definitions\n",
    "- An **exposure** is the basic unit of risk that underlies the insurance premium.\n",
    "    - Written exposures: total exposures arising from policies issued during a specified period of time\n",
    "    - Earned exposures: the portion of written exposures for which coverage has already been provided as of a certain point in time\n",
    "    - Unearned exposures: = written - earned (portion for which coverage has not yet been provided)\n",
    "    - In-force exposures: number of insured units exposed to loss at any given point in time\n",
    "- **CY/AY Aggregation:** consider all exposures in the calendar year without regard to date of poilcy issuance\n",
    "- **PY Aggregation:** considers all exposures on policies with effective dates during the year"
   ]
  },
  {
   "cell_type": "markdown",
   "metadata": {},
   "source": [
    "<a id=exp_notes></a>\n",
    "### Notes\n",
    "- A good exposure should meet the following criteria: (p.49)\n",
    "    1. Directly proportional to expected loss\n",
    "    2. Practical\n",
    "        - Objective\n",
    "        - Relatively easy/inexpensive to obtain and verify\n",
    "    3. Should consider any preexisting exposure base established in the industry\n",
    "        - Changing bases cause swings in premium, require algorithm updates, and require adjustments of historical data for future analyses\n",
    "- Exposure trend: trend exposures with time-sensitive bases (e.g. payroll, which is affected by inflation)\n",
    "    - Premium should be trended accordingly as well in these cases"
   ]
  },
  {
   "cell_type": "markdown",
   "metadata": {},
   "source": [
    "<a id=prem></a>\n",
    "# 2. Premiums (5-9%)\n",
    "Describe, analyze or design the information requirements for ratemaking related to premiums and demonstrate the use of premiums in ratemaking."
   ]
  },
  {
   "cell_type": "markdown",
   "metadata": {},
   "source": [
    "### Readings\n",
    "- ASOP 13\n",
    "- Werner and Modlin, Chapters 1, 3, 5 and Appendices A-D\n",
    "\n",
    "### Knowledge Statements\n",
    "1. Organization of data: CY, PY, and AY\n",
    "2. WP vs EP vs In-Force Premium\n",
    "3. Relationship between EP and earned exposure\n",
    "4. Policy terms\n",
    "5. Effect of law changes\n",
    "6. Effect of rate changes\n",
    "7. Determination of and application of premium trend\n",
    "8. Adjustment for coverage and benefit level changes\n",
    "9. Distributional shifts\n",
    "10. Parallelogram method\n",
    "11. Extension of exposures"
   ]
  },
  {
   "cell_type": "markdown",
   "metadata": {},
   "source": [
    "<a id='prem_defs'></a>\n",
    "### Definitions:\n",
    "- **Premium** is the amount an insured pays for insurance coverage.\n",
    "    - Written premium: total premium associated with policies written in a certain period\n",
    "    - Earned premium: portion of WP for which coverage has already been provided as of a certain point in time\n",
    "    - Unearned premium: = written - earned\n",
    "    - In-force premium: full-term premium for policies that are in effect at any given point in time\n",
    "- **CY/AY Aggregation:** considers all premium transactions that occur without regard to the date of policy issuance\n",
    "- **PY Aggregation:** considers all premium transactions on policies with effective dates during the year"
   ]
  },
  {
   "cell_type": "markdown",
   "metadata": {},
   "source": [
    "<a id=prem_notes></a>\n",
    "### Notes\n",
    "- Adjustments to Premium (p. 71)\n",
    "    - Current Rate Level\n",
    "        - Extension of Exposures: rerate every policy to restate historical premium at current rates\n",
    "        - Parralelogram Method: adjust aggregated historical premium by an average factor\n",
    "            - Calculation:\n",
    "                1. Calculate portion of the year's premium in each rate group\n",
    "                2. Calculate cumulative RL index for each group\n",
    "                3. Calculate weighted average RL index for the year\n",
    "                4. Calculate on-level factor as [current cumulative RL index]/[average cumulative RL index for that year]\n",
    "            - Issues:\n",
    "                - Assumes policies written evenly throughout the year\n",
    "                    - Use more refined periods or calculate the actual distribution of writings and use those instead\n",
    "                - Generally applied at the aggregate level, not appropriate for classification analyses\n",
    "- Premium Development\n",
    "    - Used if ultimate premium not known (e.g. in the case of using an incomplete year of data, or when LOB uses premium audits)\n",
    "- Premium Trend\n",
    "    - Can be caused by:\n",
    "        - Rating characteristics (e.g. HO increase in AOI due to inflation)\n",
    "        - Raising deductibles (one-time change spread out over length of a policy)\n",
    "        - Purchasing another company's portfolio (one-time abrupt change)\n",
    "    - One-Step Trending (p. 84)\n",
    "        - Trend period measured as length of time from [Avg. Written Date of Policies with EP in Historical Period] to [Avg. Written Date of Policies on New Rates]\n",
    "    - Two-Step Trending (p. 86)\n",
    "        - Current Premium Trend Factor = [Latest Avg. WP at CRL]/[Hist. Avg. EP at CRL]\n",
    "        - Trend periods:\n",
    "            - [Avg. Written Date of Policies with EP in Hist. Period] to [Midpoint of Latest Period of Avg. WP Data]\n",
    "            - [Midpoint of Latest Period of Avg. WP Data] to [Avg. Written Date of Policies on New Rates]\n",
    "- Considerations when grouping data:\n",
    "    - 1: Accurately match premiums and exposures to losses\n",
    "    - 2: Use most recent/responsive data available\n",
    "    - 3: Minimize the cost of data collection\n",
    "    - Calendar year\n",
    "        - No development, but poorly matched\n",
    "    - Calendar/Accident year\n",
    "        - Losses must be developed, but better match than calendar year\n",
    "    - Accident year\n",
    "        - Same as CY/AY but premium audits after CY end are incorporated - slightly better match\n",
    "        - Preferable when isolating major claim events (e.g. CATs)\n",
    "    - Policy year\n",
    "        - Takes longer to develop but provides a true match\n",
    "        - Preferable when trying to isolate policy/underwriting changes (e.g. change in limits)\n",
    "    - Report year\n",
    "        - Primarily used for claims-made\n",
    "        - Preferable when trying to iolate changes in claims practice (e.g. case reserve adequacy)\n",
    "    - Years may be split into quarters when a business is shrinking/growing rapidly"
   ]
  },
  {
   "cell_type": "markdown",
   "metadata": {},
   "source": [
    "<a id=loss></a>\n",
    "# 3. Loss & LAE (8-14%)\n",
    "Describe, analyze or design the information requirements for ratemaking related to loss and loss adjustment expenses in ratemaking."
   ]
  },
  {
   "cell_type": "markdown",
   "metadata": {},
   "source": [
    "### Readings\n",
    "- ASOP 13\n",
    "- Werner and Modlin, Chapters 1, 3, 6, 12, 16 and Appendices A-D\n",
    "\n",
    "### Knowledge Statements\n",
    "1. Organization of data: CY, PY, AY, and report year\n",
    "2. Policy provisions\n",
    "3. Occurrence coverage\n",
    "4. Claims-made coverage\n",
    "    - Report lag\n",
    "    - Coverage triggers\n",
    "    - Principles of claims-made policies\n",
    "    - Retroactive date\n",
    "    - Tail coverage\n",
    "5. Reported loses vs. paid losses\n",
    "6. Claim counts\n",
    "7. Loss adjustment expense (allocated and unallocated)\n",
    "8. Loss development\n",
    "9. Frequency trend\n",
    "10. Severity Trend\n",
    "11. Pure Premium Trend\n",
    "12. Approaches to determining trend (e.g. exponential and linear analyses)\n",
    "13. Relationship between trend and loss development\n",
    "14. Effect of law changes\n",
    "15. Effect of changes in mix of business\n",
    "16. Adjustment for coverage and benefit level changes\n",
    "17. Credibility criteria and formulae\n",
    "18. Large loss adjustment\n",
    "19. Reinsurance recoveries\n",
    "20. Reinsurance costs\n",
    "21. CAT adjustment"
   ]
  },
  {
   "cell_type": "markdown",
   "metadata": {},
   "source": [
    "<a id='loss_defs'></a>\n",
    "### Definitions\n",
    "- **Accident/loss date:** the date of the event that caused the loss\n",
    "- **Report date:** the date the claimant reports the claim to the insurer\n",
    "- **IBNR claims:** claims not currently known to the insurer (unreported)\n",
    "- **Loss:** the amount of compensation paid or payable to the claimant\n",
    "    - Paid loss: amounts that have been paid to claimants\n",
    "    - Case reserve: estimate of the amount of money required to ultimately settle a claim\n",
    "    - Reported loss/case incurred loss: = Paid + Case Reserve\n",
    "- **Ultimate loss:** the amount of money required to close/settle all claims for a defined group of policies. Differs from reported due to IBNR and IBNER\n",
    "    - Ultimate = Reported + IBNR + IBNER\n",
    "- **Loss Adjustment Expense:** expenses incurred in the process of settling claims\n",
    "    - ALAE: directly attributable to a specific claim, e.g. legal counsel hired to defend a claim\n",
    "    - ULAE: cannot be assigned to a specific claim"
   ]
  },
  {
   "cell_type": "markdown",
   "metadata": {},
   "source": [
    "<a id=loss_notes></a>\n",
    "### Notes\n",
    "- External data\n",
    "    1. Statistical plans (e.g. ISO): provide aggregated data\n",
    "    2. Other aggregated data (e.g. HLDI): provide miscellaneous reports/aggregated data\n",
    "    3. Competitor rate filings & manuals\n",
    "        - Other insurers may have different UW criteria, expense levels, and mix of business\n",
    "    4. Other 3rd party data (e.g. economic/geo-demo data)"
   ]
  },
  {
   "cell_type": "markdown",
   "metadata": {},
   "source": [
    "<a id=uw_exp></a>\n",
    "# 4. Underwriting Expense Provisions (0-5%)\n",
    "Calculate the underwriting expense provisions underlying the overall rate indication."
   ]
  },
  {
   "cell_type": "markdown",
   "metadata": {},
   "source": [
    "### Readings\n",
    "- Werner and Modlin, Chapters 1, 7 and Appendices A-D\n",
    "\n",
    "### Knowledge Statements\n",
    "1. Expense Categories (e.g. commission, general, other acquisition, taxes, license, and fees)\n",
    "2. Sources of data and selection criteria\n",
    "3. Profit and contingency provisions\n",
    "4. Net cost of reinsurance\n",
    "5. Cost of capital\n",
    "6. Fixed expenses and vairable expenses\n",
    "7. Differences in procedures for loss adjustment expenses vs. underwriting expenses\n",
    "8. Permissible loss ratio"
   ]
  },
  {
   "cell_type": "markdown",
   "metadata": {},
   "source": [
    "<a id='uw_exp_defs'></a>\n",
    "### Definitions\n",
    "- **UW expenses** refer to expenses for the aquisition and servicing of policies\n",
    "    - Commissions and brokerage: paid to agents/brokers\n",
    "    - Other acquisition: e.g. media advertisements or mailings\n",
    "    - General: remaining operations expenses, e.g. office upkeep\n",
    "    - Taxes, licenses, and fees: all taxes/fees excluding federal income taxes, e.g. premium taxes and licensing fees\n",
    "        - Federal income taxes are not included because they do not get charged to the policyholder\n",
    "- **UW profit:** AKA operating income. The sum o fprofits generated from the individual policies"
   ]
  },
  {
   "cell_type": "markdown",
   "metadata": {},
   "source": [
    "<a id=indication></a>\n",
    "# 5. Overall Rate Level Indication (3-6%)\n",
    "Calculate the overall rate level indication using the pure premium and loss ratio methods and argue the merits of each."
   ]
  },
  {
   "cell_type": "markdown",
   "metadata": {},
   "source": [
    "### Readings\n",
    "- CAS Ratemaking Principles\n",
    "- Werner and Modlin, Chapters 1, 8 and Appendices A-D\n",
    "\n",
    "### Knowledge Statements\n",
    "1. Statement of Principles, CAS\n",
    "2. Assumptions of each method\n",
    "3. Mechanics associated with each method (including organization of data)\n",
    "4. When each method works and when it does not"
   ]
  },
  {
   "cell_type": "markdown",
   "metadata": {},
   "source": [
    "<a id='indication_defs'></a>\n",
    "### Definitions\n",
    "- **Fundamental Insurance Equation:** Premium = Losses + LAE + UW Expense + UW Profit\n",
    "- **Credibility:** Credibility is a measure of the predictive value that the actuary attaches to a particular body of data"
   ]
  },
  {
   "cell_type": "markdown",
   "metadata": {},
   "source": [
    "### Notes\n",
    "- Ratemaking is prospective: \"A rate is an estimate of the expected value of future costs.\"\n",
    "    - Historical exp. may be affected by: rate changes, operational changes, inflation, mix changes, law changes, etc.\n",
    "- Addressing an unbalanced equation (UW profits too low or too high):\n",
    "    - Do nothing/change target, change UW expense, change LAE, change losses (e.g. through endorsements/UW guidelines), or change premiums (e.g. by changing rates or restating exposures). Generally recommended to change rates\n",
    "- Statement of Principles of Ratemaking\n",
    "    1. A rate is an estimate of the expected value of future costs.\n",
    "    2. A rate provides for all costs associated with the transfer of risk.\n",
    "    3. A rate provides for the costs associated with an individual risk transfer.\n",
    "    4. A rate is reasonable and not excessive, inadequate, or unfairly discriminatory if it is an actuarially sound estimate of the expected value of all future costs associated with an individual risk transfer.\n",
    "- Types/Motivations of adjustments to historical data\n",
    "    - Large event/shock loss (e.g. CAT loading), one-time or continuous change (e.g. adjusting for benefit change or trends), development, UW Exp/ULAE loading, reinsurance, credibility weighting\n",
    "- Adjustments for Shock Losses\n",
    "    - Cap losses at basic limits\n",
    "    - Cap losses and apply an excess loss loading\n",
    "        - Common cap levels: an arbitrary amount, a percentile of the size of loss distribution (e.g. 95th/99th percentile), loss as percent of the insured value (cap at x% of insured value)\n",
    "    - Remove ground-up shock losses and apply a shock loss loading\n",
    "- Adjustments for One-Time Changes (e.g. rate changes, law changes/court rulings, expense changes)\n",
    "    - See Ex. 5a: Workers Comp Benefit Change\n",
    "    - Adjustments for Rate Changes\n",
    "        - Extension of Exposures\n",
    "        - Parallelogram\n",
    "            - Assumes policies written evenly\n",
    "            - Not appropriate for class level ratemaking"
   ]
  },
  {
   "cell_type": "markdown",
   "metadata": {},
   "source": [
    "**Example 5a: Workers Comp Benefit Change Example**"
   ]
  },
  {
   "cell_type": "markdown",
   "metadata": {},
   "source": [
    "Previously: Workers compensated at 1/2 of their pre-injury wage. After change, compensation rate will be 2/3 their pre-injury wage.\n",
    "- SAWW = $1000\n",
    "- Minimum benefit: 50% of SAWW\n",
    "- Maximum benefit: Pre: N/A; Post: 100% of SAWW"
   ]
  },
  {
   "cell_type": "code",
   "execution_count": 6,
   "metadata": {},
   "outputs": [
    {
     "data": {
      "text/html": [
       "<div>\n",
       "<style scoped>\n",
       "    .dataframe tbody tr th:only-of-type {\n",
       "        vertical-align: middle;\n",
       "    }\n",
       "\n",
       "    .dataframe tbody tr th {\n",
       "        vertical-align: top;\n",
       "    }\n",
       "\n",
       "    .dataframe thead th {\n",
       "        text-align: right;\n",
       "    }\n",
       "</style>\n",
       "<table border=\"1\" class=\"dataframe\">\n",
       "  <thead>\n",
       "    <tr style=\"text-align: right;\">\n",
       "      <th></th>\n",
       "      <th>Ratio to SAWW</th>\n",
       "      <th>midpoint</th>\n",
       "      <th># Workers</th>\n",
       "      <th>Weekly Wages</th>\n",
       "    </tr>\n",
       "  </thead>\n",
       "  <tbody>\n",
       "    <tr>\n",
       "      <th>0</th>\n",
       "      <td>&lt;50%</td>\n",
       "      <td>0.500</td>\n",
       "      <td>30</td>\n",
       "      <td>14100</td>\n",
       "    </tr>\n",
       "    <tr>\n",
       "      <th>1</th>\n",
       "      <td>50-75%</td>\n",
       "      <td>0.625</td>\n",
       "      <td>100</td>\n",
       "      <td>70000</td>\n",
       "    </tr>\n",
       "    <tr>\n",
       "      <th>2</th>\n",
       "      <td>75-100%</td>\n",
       "      <td>0.875</td>\n",
       "      <td>115</td>\n",
       "      <td>103500</td>\n",
       "    </tr>\n",
       "    <tr>\n",
       "      <th>3</th>\n",
       "      <td>100-125%</td>\n",
       "      <td>1.125</td>\n",
       "      <td>75</td>\n",
       "      <td>90000</td>\n",
       "    </tr>\n",
       "    <tr>\n",
       "      <th>4</th>\n",
       "      <td>125-150%</td>\n",
       "      <td>1.375</td>\n",
       "      <td>50</td>\n",
       "      <td>70000</td>\n",
       "    </tr>\n",
       "    <tr>\n",
       "      <th>5</th>\n",
       "      <td>&gt;150%</td>\n",
       "      <td>1.500</td>\n",
       "      <td>30</td>\n",
       "      <td>52400</td>\n",
       "    </tr>\n",
       "  </tbody>\n",
       "</table>\n",
       "</div>"
      ],
      "text/plain": [
       "  Ratio to SAWW  midpoint  # Workers  Weekly Wages\n",
       "0          <50%     0.500         30         14100\n",
       "1        50-75%     0.625        100         70000\n",
       "2       75-100%     0.875        115        103500\n",
       "3      100-125%     1.125         75         90000\n",
       "4      125-150%     1.375         50         70000\n",
       "5         >150%     1.500         30         52400"
      ]
     },
     "execution_count": 6,
     "metadata": {},
     "output_type": "execute_result"
    }
   ],
   "source": [
    "ratio_to_SAWW = ['<50%', '50-75%', '75-100%', '100-125%', '125-150%', '>150%']\n",
    "midpt_ratio = [.5, .625, .875, 1.125, 1.375, 1.5]\n",
    "num_workers = [30, 100, 115, 75, 50, 30]\n",
    "weekly_wages = [14100, 70000, 103500, 90000, 70000, 52400]\n",
    "wc_dict = {'Ratio to SAWW': ratio_to_SAWW, 'midpoint': midpt_ratio, '# Workers': num_workers,\\\n",
    "           'Weekly Wages': weekly_wages}\n",
    "wc_df = pd.DataFrame(data=wc_dict)\n",
    "wc_df"
   ]
  },
  {
   "cell_type": "code",
   "execution_count": 8,
   "metadata": {},
   "outputs": [
    {
     "data": {
      "text/html": [
       "<div>\n",
       "<style scoped>\n",
       "    .dataframe tbody tr th:only-of-type {\n",
       "        vertical-align: middle;\n",
       "    }\n",
       "\n",
       "    .dataframe tbody tr th {\n",
       "        vertical-align: top;\n",
       "    }\n",
       "\n",
       "    .dataframe thead th {\n",
       "        text-align: right;\n",
       "    }\n",
       "</style>\n",
       "<table border=\"1\" class=\"dataframe\">\n",
       "  <thead>\n",
       "    <tr style=\"text-align: right;\">\n",
       "      <th></th>\n",
       "      <th>Ratio to SAWW</th>\n",
       "      <th>midpoint</th>\n",
       "      <th># Workers</th>\n",
       "      <th>Weekly Wages</th>\n",
       "      <th>pre_comp</th>\n",
       "      <th>post_comp</th>\n",
       "      <th>pre_wage</th>\n",
       "      <th>post_wage</th>\n",
       "    </tr>\n",
       "  </thead>\n",
       "  <tbody>\n",
       "    <tr>\n",
       "      <th>0</th>\n",
       "      <td>&lt;50%</td>\n",
       "      <td>0.500</td>\n",
       "      <td>30</td>\n",
       "      <td>14100</td>\n",
       "      <td>0.2500</td>\n",
       "      <td>0.333333</td>\n",
       "      <td>7050.0</td>\n",
       "      <td>9400.0</td>\n",
       "    </tr>\n",
       "    <tr>\n",
       "      <th>1</th>\n",
       "      <td>50-75%</td>\n",
       "      <td>0.625</td>\n",
       "      <td>100</td>\n",
       "      <td>70000</td>\n",
       "      <td>0.3125</td>\n",
       "      <td>0.416667</td>\n",
       "      <td>35000.0</td>\n",
       "      <td>46667.0</td>\n",
       "    </tr>\n",
       "    <tr>\n",
       "      <th>2</th>\n",
       "      <td>75-100%</td>\n",
       "      <td>0.875</td>\n",
       "      <td>115</td>\n",
       "      <td>103500</td>\n",
       "      <td>0.4375</td>\n",
       "      <td>0.583333</td>\n",
       "      <td>51750.0</td>\n",
       "      <td>69000.0</td>\n",
       "    </tr>\n",
       "    <tr>\n",
       "      <th>3</th>\n",
       "      <td>100-125%</td>\n",
       "      <td>1.125</td>\n",
       "      <td>75</td>\n",
       "      <td>90000</td>\n",
       "      <td>0.5625</td>\n",
       "      <td>0.750000</td>\n",
       "      <td>45000.0</td>\n",
       "      <td>60000.0</td>\n",
       "    </tr>\n",
       "    <tr>\n",
       "      <th>4</th>\n",
       "      <td>125-150%</td>\n",
       "      <td>1.375</td>\n",
       "      <td>50</td>\n",
       "      <td>70000</td>\n",
       "      <td>0.6875</td>\n",
       "      <td>0.916667</td>\n",
       "      <td>35000.0</td>\n",
       "      <td>46667.0</td>\n",
       "    </tr>\n",
       "    <tr>\n",
       "      <th>5</th>\n",
       "      <td>&gt;150%</td>\n",
       "      <td>1.500</td>\n",
       "      <td>30</td>\n",
       "      <td>52400</td>\n",
       "      <td>0.7500</td>\n",
       "      <td>1.000000</td>\n",
       "      <td>26200.0</td>\n",
       "      <td>34933.0</td>\n",
       "    </tr>\n",
       "  </tbody>\n",
       "</table>\n",
       "</div>"
      ],
      "text/plain": [
       "  Ratio to SAWW  midpoint  # Workers  Weekly Wages  pre_comp  post_comp  \\\n",
       "0          <50%     0.500         30         14100    0.2500   0.333333   \n",
       "1        50-75%     0.625        100         70000    0.3125   0.416667   \n",
       "2       75-100%     0.875        115        103500    0.4375   0.583333   \n",
       "3      100-125%     1.125         75         90000    0.5625   0.750000   \n",
       "4      125-150%     1.375         50         70000    0.6875   0.916667   \n",
       "5         >150%     1.500         30         52400    0.7500   1.000000   \n",
       "\n",
       "   pre_wage  post_wage  \n",
       "0    7050.0     9400.0  \n",
       "1   35000.0    46667.0  \n",
       "2   51750.0    69000.0  \n",
       "3   45000.0    60000.0  \n",
       "4   35000.0    46667.0  \n",
       "5   26200.0    34933.0  "
      ]
     },
     "execution_count": 8,
     "metadata": {},
     "output_type": "execute_result"
    }
   ],
   "source": [
    "# Calculate compensation under old and new guidelines\n",
    "pre_comp = wc_df.midpoint * (1/2)\n",
    "post_comp = wc_df.midpoint * (2/3)\n",
    "wc_df = wc_df.assign(pre_comp=pre_comp, post_comp=post_comp)\n",
    "\n",
    "# Check if group falls into min benefit\n",
    "wages = wc_df.loc[:, 'Weekly Wages']\n",
    "pre_wage = round(wages * (1/2), 0)\n",
    "post_wage = round(wages * (2/3), 0)\n",
    "wc_df = wc_df.assign(pre_wage=pre_wage, post_wage=post_wage)\n",
    "wc_df"
   ]
  },
  {
   "cell_type": "code",
   "execution_count": 21,
   "metadata": {},
   "outputs": [
    {
     "data": {
      "text/html": [
       "<div>\n",
       "<style scoped>\n",
       "    .dataframe tbody tr th:only-of-type {\n",
       "        vertical-align: middle;\n",
       "    }\n",
       "\n",
       "    .dataframe tbody tr th {\n",
       "        vertical-align: top;\n",
       "    }\n",
       "\n",
       "    .dataframe thead th {\n",
       "        text-align: right;\n",
       "    }\n",
       "</style>\n",
       "<table border=\"1\" class=\"dataframe\">\n",
       "  <thead>\n",
       "    <tr style=\"text-align: right;\">\n",
       "      <th></th>\n",
       "      <th>Ratio to SAWW</th>\n",
       "      <th>midpoint</th>\n",
       "      <th># Workers</th>\n",
       "      <th>Weekly Wages</th>\n",
       "      <th>pre_comp</th>\n",
       "      <th>post_comp</th>\n",
       "      <th>pre_wage</th>\n",
       "      <th>post_wage</th>\n",
       "    </tr>\n",
       "  </thead>\n",
       "  <tbody>\n",
       "    <tr>\n",
       "      <th>0</th>\n",
       "      <td>&lt;50%</td>\n",
       "      <td>0.500</td>\n",
       "      <td>30</td>\n",
       "      <td>14100</td>\n",
       "      <td>0.2500</td>\n",
       "      <td>0.333333</td>\n",
       "      <td>15000.0</td>\n",
       "      <td>15000.0</td>\n",
       "    </tr>\n",
       "    <tr>\n",
       "      <th>1</th>\n",
       "      <td>50-75%</td>\n",
       "      <td>0.625</td>\n",
       "      <td>100</td>\n",
       "      <td>70000</td>\n",
       "      <td>0.3125</td>\n",
       "      <td>0.416667</td>\n",
       "      <td>50000.0</td>\n",
       "      <td>50000.0</td>\n",
       "    </tr>\n",
       "    <tr>\n",
       "      <th>2</th>\n",
       "      <td>75-100%</td>\n",
       "      <td>0.875</td>\n",
       "      <td>115</td>\n",
       "      <td>103500</td>\n",
       "      <td>0.4375</td>\n",
       "      <td>0.583333</td>\n",
       "      <td>57500.0</td>\n",
       "      <td>69000.0</td>\n",
       "    </tr>\n",
       "    <tr>\n",
       "      <th>3</th>\n",
       "      <td>100-125%</td>\n",
       "      <td>1.125</td>\n",
       "      <td>75</td>\n",
       "      <td>90000</td>\n",
       "      <td>0.5625</td>\n",
       "      <td>0.750000</td>\n",
       "      <td>45000.0</td>\n",
       "      <td>60000.0</td>\n",
       "    </tr>\n",
       "    <tr>\n",
       "      <th>4</th>\n",
       "      <td>125-150%</td>\n",
       "      <td>1.375</td>\n",
       "      <td>50</td>\n",
       "      <td>70000</td>\n",
       "      <td>0.6875</td>\n",
       "      <td>0.916667</td>\n",
       "      <td>35000.0</td>\n",
       "      <td>46667.0</td>\n",
       "    </tr>\n",
       "    <tr>\n",
       "      <th>5</th>\n",
       "      <td>&gt;150%</td>\n",
       "      <td>1.500</td>\n",
       "      <td>30</td>\n",
       "      <td>52400</td>\n",
       "      <td>0.7500</td>\n",
       "      <td>1.000000</td>\n",
       "      <td>26200.0</td>\n",
       "      <td>30000.0</td>\n",
       "    </tr>\n",
       "  </tbody>\n",
       "</table>\n",
       "</div>"
      ],
      "text/plain": [
       "  Ratio to SAWW  midpoint  # Workers  Weekly Wages  pre_comp  post_comp  \\\n",
       "0          <50%     0.500         30         14100    0.2500   0.333333   \n",
       "1        50-75%     0.625        100         70000    0.3125   0.416667   \n",
       "2       75-100%     0.875        115        103500    0.4375   0.583333   \n",
       "3      100-125%     1.125         75         90000    0.5625   0.750000   \n",
       "4      125-150%     1.375         50         70000    0.6875   0.916667   \n",
       "5         >150%     1.500         30         52400    0.7500   1.000000   \n",
       "\n",
       "   pre_wage  post_wage  \n",
       "0   15000.0    15000.0  \n",
       "1   50000.0    50000.0  \n",
       "2   57500.0    69000.0  \n",
       "3   45000.0    60000.0  \n",
       "4   35000.0    46667.0  \n",
       "5   26200.0    30000.0  "
      ]
     },
     "execution_count": 21,
     "metadata": {},
     "output_type": "execute_result"
    }
   ],
   "source": [
    "# Adjust pre_wage and post_wage based on pre_comp and post_comp ratios to SAWW and old/new guidelines\n",
    "num_workers = wc_df.loc[:, '# Workers']\n",
    "# Min applies to pre/post\n",
    "min_comp = num_workers * (1000 * 0.5)\n",
    "# Max applies to post only\n",
    "max_comp = num_workers * (1000 * 1.0)\n",
    "\n",
    "# Pre-Change: Update pre_wage column. Update columns with benefits ratio < 50% of SAWW to 50% of SAWW. No max benefit.\n",
    "adj_pre_min = wc_df.loc[:, 'pre_comp'] <= 0.5\n",
    "wc_df.loc[adj_pre_min, 'pre_wage'] = min_comp[adj_pre_min]\n",
    "\n",
    "# Post-Change: Update post_wage column. Update columns with benefits ratio < 50% of SAWW to 50% of SAWW. Max = 100% SAWW\n",
    "adj_post_min = wc_df.loc[:, 'post_comp'] <= 0.5\n",
    "adj_post_max = wc_df.loc[: , 'post_comp'] >= 1.0\n",
    "wc_df.loc[adj_post_min, 'post_wage'] = min_comp[adj_post_min]\n",
    "wc_df.loc[adj_post_max, 'post_wage'] = max_comp[adj_post_max]\n",
    "\n",
    "wc_df"
   ]
  },
  {
   "cell_type": "code",
   "execution_count": 22,
   "metadata": {},
   "outputs": [
    {
     "name": "stdout",
     "output_type": "stream",
     "text": [
      "Pre: $228,700    Post: $270,667    Direct Effect: 18.35%\n"
     ]
    }
   ],
   "source": [
    "# Calculate effect of benefits change\n",
    "pre_total = wc_df.pre_wage.sum()\n",
    "post_total = wc_df.post_wage.sum()\n",
    "print('Pre:', '${:,.0f}'.format(pre_total), '   Post:', '${:,.0f}'.format(post_total), \\\n",
    "      '   Direct Effect:', '{:.2%}'.format(post_total/pre_total-1))"
   ]
  },
  {
   "cell_type": "markdown",
   "metadata": {},
   "source": [
    "<a id=other_rl_considerations></a>\n",
    "# 6. Other Rate Level Considerations (0-5%)\n",
    "Describe, analyze, and validate the considerations beyond the calculated cost-based estimate of the rate when selecting a final rate change to implement."
   ]
  },
  {
   "cell_type": "markdown",
   "metadata": {},
   "source": [
    "### Readings\n",
    "- Werner and Modlin, Chapter 13\n",
    "\n",
    "### Knowledge Statements\n",
    "1. Calculate cost-based rate\n",
    "2. Regulatory constraints\n",
    "3. Operational constraints\n",
    "4. Marketing constraints\n",
    "    - Competitive comparisons\n",
    "    - Close ratios\n",
    "    - Retention ratios\n",
    "    - Growth\n",
    "    - Distributional analysis\n",
    "    - Policyholder dislocation analysis\n",
    "5. Lifetime value analysis\n",
    "6. Optimized pricing\n",
    "7. Underwriting cycles"
   ]
  },
  {
   "cell_type": "markdown",
   "metadata": {},
   "source": [
    "<a id='other_rl_considerations_defs'></a>\n",
    "### Definitions\n",
    "- "
   ]
  },
  {
   "cell_type": "markdown",
   "metadata": {},
   "source": [
    "<a id=risk_classification></a>\n",
    "# 7. Risk Classification (0-5%)\n",
    "Explain the purpose for segregating data into homogeneous groups and summarize the considerations for determining such groups."
   ]
  },
  {
   "cell_type": "markdown",
   "metadata": {},
   "source": [
    "### Readings\n",
    "- ASOP 12\n",
    "- Werner and Modlin, Chapter 9\n",
    "\n",
    "### Knowledge Statements\n",
    "1. Risk classification standard of practice\n",
    "2. Criteria for selection of classification grouping\n",
    "3. Credibility\n",
    "4. Adverse selection\n",
    "5. Practicality"
   ]
  },
  {
   "cell_type": "markdown",
   "metadata": {},
   "source": [
    "<a id='risk_classification_defs'></a>\n",
    "### Definitions\n",
    "- "
   ]
  },
  {
   "cell_type": "markdown",
   "metadata": {},
   "source": [
    "<a id=terr_ilf></a>\n",
    "# 8. Territory and ILF/Deductible Rating (10-14%)\n",
    "Develop rating differentials for classification and territory and relativities for deductibles and increased limits."
   ]
  },
  {
   "cell_type": "markdown",
   "metadata": {},
   "source": [
    "### Readings\n",
    "- Werner and Modlin, Chapters 9-12, 15 and Appendices E-F\n",
    "\n",
    "### Knowledge Statements\n",
    "1. Formulae and process for each rating differential or relativity\n",
    "2. Credibility and complements of credibility\n",
    "3. Off balance\n",
    "4. Capping of change\n",
    "5. Loss elimination\n",
    "6. Basic limits vs. total limits\n",
    "7. Layers of loss\n",
    "8. Expense adjustments\n",
    "9. Fundamentals of univariate and multivariate relativity analyses"
   ]
  },
  {
   "cell_type": "markdown",
   "metadata": {},
   "source": [
    "<a id='terr_ilf_defs'></a>\n",
    "### Definitions\n",
    "- "
   ]
  },
  {
   "cell_type": "markdown",
   "metadata": {},
   "source": [
    "<a id=implementing_rates></a>\n",
    "# 9. Implementing Rates (0-3%)\n",
    "Assess the considerations for implementing rates to achieve an organization's goals."
   ]
  },
  {
   "cell_type": "markdown",
   "metadata": {},
   "source": [
    "### Readings\n",
    "- Werner and Modlin, Chapter 14\n",
    "\n",
    "### Knowledge Statements\n",
    "1. Rating algorithms\n",
    "2. Rating variables and differentials\n",
    "3. Fixed expenses, if applicable\n",
    "4. Expense fee calculation\n",
    "5. Calculation of final base rates\n",
    "6. Minimum premiums\n",
    "7. Non-pricing solutions"
   ]
  },
  {
   "cell_type": "markdown",
   "metadata": {},
   "source": [
    "<a id='implementing_rates_def'></a>\n",
    "### Definitions\n",
    "- "
   ]
  },
  {
   "cell_type": "markdown",
   "metadata": {},
   "source": [
    "<a id=coinsurance></a>\n",
    "# 10. Coinsurance Premiums (0-5%)\n",
    "Calculate premium for policies with coinsurance provisions."
   ]
  },
  {
   "cell_type": "markdown",
   "metadata": {},
   "source": [
    "### Readings\n",
    "- Werner and Modlin, Chapter 11\n",
    "\n",
    "### Knowledge Statements\n",
    "1. Definition of coinsurance\n",
    "2. Insurance to value\n",
    "3. Common policy provisions\n",
    "4. Layers of loss\n",
    "5. Coverage issues\n",
    "6. Guaranteed replacement cost\n",
    "7. Formulae for coinsurnance"
   ]
  },
  {
   "cell_type": "markdown",
   "metadata": {},
   "source": [
    "<a id='coinsurance_defs'></a>\n",
    "### Definitions\n",
    "- "
   ]
  },
  {
   "cell_type": "markdown",
   "metadata": {},
   "source": [
    "<a id=indiv_risk></a>\n",
    "# 11. Individual Risk Rating (0-5%)\n",
    "Perform basic individual risk rating calculations."
   ]
  },
  {
   "cell_type": "markdown",
   "metadata": {},
   "source": [
    "### Readings\n",
    "- Werner and Modlin, Chapter 15\n",
    "\n",
    "### Knowledge Statements\n",
    "1. Purpose of individual risk rating\n",
    "2. Schedule rating\n",
    "3. Manual rating\n",
    "4. Retrospective rating\n",
    "5. Experience modification\n",
    "6. Composite loss-rated risks\n",
    "7. Experience period\n",
    "8. Credibility\n",
    "9. Layers of loss"
   ]
  },
  {
   "cell_type": "markdown",
   "metadata": {},
   "source": [
    "<a id='indiv_risk_defs'></a>\n",
    "### Definitions\n",
    "- "
   ]
  },
  {
   "cell_type": "markdown",
   "metadata": {},
   "source": [
    "# Miscellaneous"
   ]
  },
  {
   "cell_type": "markdown",
   "metadata": {},
   "source": [
    "<a id=ratios></a>\n",
    "### Basic Insurance Ratios: (p. 9-10)\n",
    "\\begin{align}\n",
    "\\text{Loss Ratio}&=\\frac{\\text{Losses}}{\\text{Premium}}=\\frac{\\text{Pure Premium}}{\\text{Average Premium}}\\\\\n",
    "\\text{LAE Ratio}&=\\frac{\\text{Loss Adjustment Expenses}}{\\text{Losses}}\\\\\n",
    "\\text{UW Expense Ratio}&=\\frac{\\text{UW Expenses}}{\\text{Premium}}=\\frac{\\text{Commisions + Other Acquisition + Taxes, licenses, and fees}}{\\text{Written Premium}} + \\frac{\\text{General Expenses}}{\\text{Earned Premium}}\\\\\n",
    "\\text{Operating Expense Ratio}&=\\text{UW Expense Ratio}+\\frac{\\text{LAE}}{\\text{Earned Premium}}\\\\\n",
    "\\text{Combined Ratio}&=\\text{Loss Ratio}+\\frac{\\text{LAE}}{\\text{Earned Premium}}+\\frac{\\text{UW Expenses}}{\\text{Written Premium}}=\\frac{\\text{Loss & LAE Ratio}}{\\text{Earned Premuim}} + \\frac{\\text{UW Expenses}}{\\text{Written Premium}}\n",
    "\\end{align}\n",
    "- Loss Ratio used for calculating Combined Ratio should not include LAE or it will be double counted... formula is equivalent to [Loss + LAE Ratio]/[EP] + [UW Exp]/[WP]"
   ]
  },
  {
   "cell_type": "markdown",
   "metadata": {},
   "source": [
    "<a id=fund_ins_eqn></a>\n",
    "### Fundamental Insurance Equation: (p. 90)\n",
    "\\begin{align}\n",
    "\\text{Premium}=\\text{Losses}+\\text{LAE}+\\text{UW Expenses}+\\text{Profit}\n",
    "\\end{align}"
   ]
  }
 ],
 "metadata": {
  "kernelspec": {
   "display_name": "Python 3",
   "language": "python",
   "name": "python3"
  },
  "language_info": {
   "codemirror_mode": {
    "name": "ipython",
    "version": 3
   },
   "file_extension": ".py",
   "mimetype": "text/x-python",
   "name": "python",
   "nbconvert_exporter": "python",
   "pygments_lexer": "ipython3",
   "version": "3.6.8"
  }
 },
 "nbformat": 4,
 "nbformat_minor": 2
}
